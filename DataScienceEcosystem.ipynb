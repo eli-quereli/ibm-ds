{
 "cells": [
  {
   "cell_type": "markdown",
   "id": "f4e17c8e-22dc-4188-acb8-6723915979a1",
   "metadata": {},
   "source": [
    "# Data Science Tools and Ecosystem"
   ]
  },
  {
   "cell_type": "markdown",
   "id": "7c26f95b-b112-45d0-ba3e-27798b6c6584",
   "metadata": {},
   "source": [
    "In this notebook, Data Science Tools and Ecosystem are summarized."
   ]
  },
  {
   "cell_type": "markdown",
   "id": "c35d220e-afe4-4a04-9317-d4e19ed16c3e",
   "metadata": {},
   "source": [
    "Some of the popular languages that Data Scientists use are: \n",
    "1. Python\n",
    "2. R\n",
    "3. Julia"
   ]
  },
  {
   "cell_type": "markdown",
   "id": "5d1f36af-1935-4108-bf63-c6f7247fe6c0",
   "metadata": {},
   "source": [
    "Some of the commonly used libraries used by Data Scientists include: \n",
    "1. scikit-learn\n",
    "2. pandas\n",
    "3. Tensorflow\n"
   ]
  },
  {
   "cell_type": "markdown",
   "id": "c959f393-8abc-4cb7-b25c-e02084fafbac",
   "metadata": {},
   "source": [
    "| Data Science Tools |\n",
    "|---------------------|\n",
    "| Git                |\n",
    "| PostgreSQL         |\n",
    "| Jupyter IDE        |\n",
    "\n"
   ]
  },
  {
   "cell_type": "markdown",
   "id": "a7fd2ae2-3c72-4579-b931-401551a1bf22",
   "metadata": {},
   "source": [
    "### Below are a few examples of evaluating arithmetic expressions in Python."
   ]
  },
  {
   "cell_type": "code",
   "execution_count": 2,
   "id": "89f2ad0b-6bf6-4870-bd79-ce50d7e67648",
   "metadata": {},
   "outputs": [
    {
     "data": {
      "text/plain": [
       "17"
      ]
     },
     "execution_count": 2,
     "metadata": {},
     "output_type": "execute_result"
    }
   ],
   "source": [
    "# This a simple arithmetic expression to mutiply then add integers\n",
    "(3*4)+5"
   ]
  },
  {
   "cell_type": "code",
   "execution_count": 5,
   "id": "50951359-531b-4485-911a-8054855a71e8",
   "metadata": {},
   "outputs": [
    {
     "data": {
      "text/plain": [
       "3.3333333333333335"
      ]
     },
     "execution_count": 5,
     "metadata": {},
     "output_type": "execute_result"
    }
   ],
   "source": [
    "# This will convert 200 minutes to hours by diving by 60\n",
    "200 / 60"
   ]
  },
  {
   "cell_type": "markdown",
   "id": "762b7304-8370-49ec-beea-e11bcc03336f",
   "metadata": {},
   "source": [
    "**Objectives:**\n",
    "- List popular Data Science languages\n",
    "- List commonly used Data Science libraries\n",
    "- List popular Data Science Tools\n",
    "- Show examples of basic arithmetic expressions in Python"
   ]
  },
  {
   "cell_type": "markdown",
   "id": "430bf415-9ddd-4fd8-b8a9-6fea11082532",
   "metadata": {},
   "source": [
    "## Author\n",
    "Elisabeth Steffen"
   ]
  },
  {
   "cell_type": "code",
   "execution_count": null,
   "id": "cd024a11-a546-4950-bd9b-896f375f486d",
   "metadata": {},
   "outputs": [],
   "source": []
  }
 ],
 "metadata": {
  "kernelspec": {
   "display_name": "Python 3 (ipykernel)",
   "language": "python",
   "name": "python3"
  },
  "language_info": {
   "codemirror_mode": {
    "name": "ipython",
    "version": 3
   },
   "file_extension": ".py",
   "mimetype": "text/x-python",
   "name": "python",
   "nbconvert_exporter": "python",
   "pygments_lexer": "ipython3",
   "version": "3.11.9"
  }
 },
 "nbformat": 4,
 "nbformat_minor": 5
}
